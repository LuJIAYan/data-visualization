{
 "cells": [
  {
   "cell_type": "code",
   "execution_count": null,
   "metadata": {},
   "outputs": [
    {
     "name": "stdout",
     "output_type": "stream",
     "text": [
      "Running on http://127.0.0.1:8059/\n",
      "Debugger PIN: 408-370-631\n",
      " * Serving Flask app \"__main__\" (lazy loading)\n",
      " * Environment: production\n",
      "   WARNING: Do not use the development server in a production environment.\n",
      "   Use a production WSGI server instead.\n",
      " * Debug mode: on\n"
     ]
    }
   ],
   "source": [
    "#TED直方图\n",
    "import dash\n",
    "import dash_core_components as dcc\n",
    "import dash_html_components as html\n",
    "import plotly.graph_objs as go\n",
    "import pandas as pd\n",
    "\n",
    "external_stylesheets = ['https://codepen.io/chriddyp/pen/bWLwgP.css']\n",
    "\n",
    "app = dash.Dash(__name__, external_stylesheets=external_stylesheets)\n",
    "\n",
    "df = pd.read_csv('themes.csv') \n",
    " \n",
    "\n",
    "def get_show_histogram():\n",
    "\n",
    "    trace = go.Histogram(\n",
    "        y=df['title'],\n",
    "        # histfunc='sum',\n",
    "        # histnorm='probability',\n",
    "        # hoverinfo='text',\n",
    "        # text='数量',\n",
    "        # hovertext='总计',\n",
    "         \n",
    "        # nbinsx=10,\n",
    "        # xbins={\n",
    "        #     'start': 0,\n",
    "        #     'end': 100,\n",
    "        #     'size': 20\n",
    "        # },\n",
    "        # name='新用户',\n",
    "        # visible=False\n",
    "        # showlegend=False\n",
    "        # legendgroup='group1'\n",
    "    )\n",
    "    layout = go.Layout(\n",
    "        title='TED主题',\n",
    "        # yaxis={\n",
    "        #     'hoverformat': '.2%',\n",
    "        # }\n",
    "    )\n",
    "    return go.Figure(\n",
    "        data=[trace],\n",
    "        layout=layout\n",
    "    )\n",
    " \n",
    "app.layout = html.Div([\n",
    "    dcc.Graph(\n",
    "        id='show_scatter',\n",
    "        figure=get_show_histogram()\n",
    "    ),\n",
    "], style={'margin': 100})\n",
    " \n",
    "if __name__ == '__main__':\n",
    "    app.run_server(debug=True, port=8059, use_reloader=False) # 此坑已填"
   ]
  },
  {
   "cell_type": "code",
   "execution_count": null,
   "metadata": {},
   "outputs": [],
   "source": []
  }
 ],
 "metadata": {
  "kernelspec": {
   "display_name": "Python 3",
   "language": "python",
   "name": "python3"
  },
  "language_info": {
   "codemirror_mode": {
    "name": "ipython",
    "version": 3
   },
   "file_extension": ".py",
   "mimetype": "text/x-python",
   "name": "python",
   "nbconvert_exporter": "python",
   "pygments_lexer": "ipython3",
   "version": "3.7.3"
  }
 },
 "nbformat": 4,
 "nbformat_minor": 2
}
